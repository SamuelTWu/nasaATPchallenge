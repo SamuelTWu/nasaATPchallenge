{
 "cells": [
  {
   "attachments": {},
   "cell_type": "markdown",
   "metadata": {},
   "source": [
    "# Preprocess Output\n",
    "This script will comb through the FUSAR runways_data_set.csv data and produce as output a table of form:\n",
    "\n",
    "| AIRPORT | DATE | TIME (15 min intervals) | # arrivals |\n",
    "| ------- | ---- | ----------------------- | ---------- |\n",
    "\n",
    "_In the final output, we will need to convert from TIME (15 min intervals) to BASETIME_BUCKET where BASETIME = TIME and BUCKET is 15 minute intervals._"
   ]
  },
  {
   "cell_type": "code",
   "execution_count": 29,
   "metadata": {},
   "outputs": [],
   "source": [
    "import pandas as pd\n",
    "import os\n",
    "import math\n",
    "from datetime import date, datetime"
   ]
  },
  {
   "cell_type": "code",
   "execution_count": 3,
   "metadata": {},
   "outputs": [],
   "source": [
    "def get_bucket(time):\n",
    "    #given an arbitrary time t (hhmm), returns closest 15 minute interval\n",
    "    #example: 0112 -> 0130\n",
    "    hour = int(time[:2])\n",
    "    minute = int(time[2:])\n",
    "    if minute <= 15:\n",
    "        return str(hour%24).zfill(2)+\"15\"\n",
    "    elif minute > 15 and minute <= 30:\n",
    "        return str(hour%24).zfill(2)+\"30\"\n",
    "    elif minute > 30 and minute <= 45:\n",
    "        return str(hour%24).zfill(2)+\"45\"\n",
    "    elif minute > 45:\n",
    "        return str((hour+1)%24).zfill(2)+\"00\""
   ]
  },
  {
   "cell_type": "code",
   "execution_count": 4,
   "metadata": {},
   "outputs": [],
   "source": [
    "#given time t, increases to next bucket\n",
    "#ex: 0115 -> 0130\n",
    "def increment_time(time):\n",
    "    time = get_bucket(time)\n",
    "    hour = int(time[:2])\n",
    "    minute = int(time[2:])\n",
    "    match minute:\n",
    "        case 00:\n",
    "            return str(hour%24).zfill(2)+\"15\"\n",
    "        case 15:\n",
    "            return str(hour%24).zfill(2)+\"30\"\n",
    "        case 30:\n",
    "            return str(hour%24).zfill(2)+\"45\"\n",
    "        case 45:\n",
    "            return str((hour+1)%24).zfill(2)+\"00\"\n",
    "        case _:\n",
    "            return None"
   ]
  },
  {
   "cell_type": "code",
   "execution_count": 5,
   "metadata": {},
   "outputs": [],
   "source": [
    "def convert_timestamp(file, row):\n",
    "    airport = file.split(\"_\")[0]\n",
    "    #date = (YYMMDD)\n",
    "    date = row.split(\" \")[0].split(\"-\")[0][2:]+row.split(\" \")[0].split(\"-\")[1]+row.split(\" \")[0].split(\"-\")[2]\n",
    "    time = get_bucket(row.split(\" \")[-1].split(\":\")[0]+row.split(\" \")[-1].split(\":\")[1])\n",
    "    return airport, date, time              "
   ]
  },
  {
   "cell_type": "code",
   "execution_count": 39,
   "metadata": {},
   "outputs": [
    {
     "name": "stdout",
     "output_type": "stream",
     "text": [
      "autumn\n"
     ]
    }
   ],
   "source": [
    "Y = 2000 # dummy leap year to allow input X-02-29 (leap day)\n",
    "seasons = [('winter', (date(Y,  1,  1),  date(Y,  3, 20))),\n",
    "           ('spring', (date(Y,  3, 21),  date(Y,  6, 20))),\n",
    "           ('summer', (date(Y,  6, 21),  date(Y,  9, 22))),\n",
    "           ('autumn', (date(Y,  9, 23),  date(Y, 12, 20))),\n",
    "           ('winter', (date(Y, 12, 21),  date(Y, 12, 31)))]\n",
    "def get_season(now):\n",
    "    if isinstance(now, datetime):\n",
    "        now = now.date()\n",
    "    now = now.replace(year=Y)\n",
    "    return next(season for season, (start, end) in seasons\n",
    "                if start <= now <= end)"
   ]
  },
  {
   "cell_type": "code",
   "execution_count": 6,
   "metadata": {},
   "outputs": [],
   "source": [
    "#returns a dataframe with cols [[airport_date_time][# arrivals]]\n",
    "def get_target_data():\n",
    "    folder_paths = ['FUSER_train_1']\n",
    "    extension = 'runways_data_set.csv'\n",
    "    target_data = {}\n",
    "\n",
    "    # Search for files in the specified folder\n",
    "    for folder_path in folder_paths:\n",
    "        for root, dirs, files in os.walk(\"data/\"+folder_path):\n",
    "            for file in files:\n",
    "                if file.endswith(extension):\n",
    "                    df = pd.read_csv(os.path.join(root, file))\n",
    "                    for ind, row in df.iterrows():\n",
    "                        if not pd.isna(df.loc[ind, 'arrival_runway_actual_time']):\n",
    "                            airport, date, time = convert_timestamp(file, df[\"arrival_runway_actual_time\"][ind])\n",
    "                            key = airport+\"_\"+date+\"_\"+time\n",
    "                            if key in target_data.keys():\n",
    "                                target_data[key]+=1\n",
    "                            else:\n",
    "                                target_data[key] = 0\n",
    "    return pd.DataFrame.from_dict(target_data, orient='index', columns=['# arrivals'])"
   ]
  },
  {
   "cell_type": "code",
   "execution_count": 7,
   "metadata": {},
   "outputs": [],
   "source": [
    "#returns dataframe with cols [airport_date_time][][] \n",
    "def get_weather_data():\n",
    "    folder_paths = ['FUSER_train_1']\n",
    "    extension = 'LAMP_data_set.csv'\n",
    "    weather_data = {}\n",
    "    #weather data is forecasts from timestamp t to n steps in the future. This only uses forecast n=1 steps into the future. \n",
    "\n",
    "    # Search for files in the specified folder\n",
    "    for folder_path in folder_paths:\n",
    "        for root, dirs, files in os.walk(\"data/\"+folder_path):\n",
    "            for file in files:\n",
    "                if file.endswith(extension):\n",
    "                    df = pd.read_csv(os.path.join(root, file))\n",
    "                    for ind in range(0, len(df), 25):\n",
    "                        if not pd.isna(df.loc[ind, 'forecast_timestamp']):\n",
    "                            airport, date, time = convert_timestamp(file, df[\"forecast_timestamp\"][ind])\n",
    "                            #get the forecast data for each timestamp\n",
    "                            temperature = df[\"temperature\"][ind]\n",
    "                            wind_direction = df[\"wind_direction\"][ind]\n",
    "                            wind_speed = df[\"wind_speed\"][ind]\n",
    "                            wind_gust = df[\"wind_gust\"][ind]\n",
    "                            cloud_ceiling = df[\"cloud_ceiling\"][ind]\n",
    "                            visibility = df[\"visibility\"][ind]\n",
    "                            cloud = df[\"cloud\"][ind]\n",
    "                            lightning_prob = df[\"lightning_prob\"][ind]\n",
    "                            precip = df[\"precip\"][ind]\n",
    "                            #set forecast for buckets 15,30,45,00\n",
    "                            times = [time, increment_time(time), increment_time(increment_time(time)), increment_time(increment_time(increment_time(time)))]\n",
    "                            keys = [airport+\"_\"+date+\"_\"+time for time in times]\n",
    "                            for key in keys:\n",
    "                                weather_data[key] = [temperature, wind_direction, wind_speed, wind_gust, cloud_ceiling, visibility, cloud, lightning_prob, precip]\n",
    "    return pd.DataFrame.from_dict(weather_data, orient='index', columns=['temperature', 'wind_direction', 'wind_speed', 'wind_gust', 'cloud_ceiling', 'visibility', 'cloud', 'lightning_prob', 'precip'])                "
   ]
  },
  {
   "cell_type": "code",
   "execution_count": 42,
   "metadata": {},
   "outputs": [],
   "source": [
    "#for each row in df, add time, day, week, season data\n",
    "#for now I'm doing a timeseries, but we could change this to one-hot in the future \n",
    "def extract_time_data(df):\n",
    "    airports = []\n",
    "    times= []\n",
    "    weekdays = []\n",
    "    days = []\n",
    "    months = []\n",
    "    seasons = []\n",
    "    for ind, row in df.iterrows():\n",
    "        split_str = ind.split(\"_\")\n",
    "        airport = split_str[0]\n",
    "        date = split_str[1]\n",
    "        time = split_str[2]\n",
    "        day = date[4:]\n",
    "        weekday = datetime.strptime(date, '%y%m%d').weekday()\n",
    "        month = date[2:4]\n",
    "        season = get_season(datetime.strptime(date, '%y%m%d'))\n",
    "        #append to list\n",
    "        airports.append(airport)\n",
    "        times.append(int(time))\n",
    "        weekdays.append(weekday)\n",
    "        days.append(int(day))\n",
    "        months.append(int(month))\n",
    "        seasons.append(season)\n",
    "    df['Airport'] = airports\n",
    "    df['Time'] = times\n",
    "    df['Weekday'] = weekdays\n",
    "    df['Day'] = days\n",
    "    df['Month'] = months\n",
    "    df['Season'] = seasons\n",
    "    return df     "
   ]
  },
  {
   "attachments": {},
   "cell_type": "markdown",
   "metadata": {},
   "source": [
    "# Final Preprocessing"
   ]
  },
  {
   "cell_type": "code",
   "execution_count": 44,
   "metadata": {},
   "outputs": [],
   "source": [
    "#align weather data with target data using AIRPORT_DATE_TIME and index\n",
    "data = pd.concat([get_weather_data(), get_target_data()], axis=1)\n",
    "#extract time data from index\n",
    "data = extract_time_data(data)\n",
    "#one-hot encode\n",
    "data = pd.get_dummies(data, dtype=float)\n",
    "#move '# arrivals' to end of dataframe\n",
    "cols_at_end = ['# arrivals']\n",
    "data = data[[c for c in data if c not in cols_at_end] \n",
    "        + [c for c in cols_at_end if c in data]]\n",
    "#drop rows with NaN\n",
    "data.dropna(inplace=True)"
   ]
  }
 ],
 "metadata": {
  "kernelspec": {
   "display_name": ".venv",
   "language": "python",
   "name": "python3"
  },
  "language_info": {
   "codemirror_mode": {
    "name": "ipython",
    "version": 3
   },
   "file_extension": ".py",
   "mimetype": "text/x-python",
   "name": "python",
   "nbconvert_exporter": "python",
   "pygments_lexer": "ipython3",
   "version": "3.11.10"
  }
 },
 "nbformat": 4,
 "nbformat_minor": 2
}
